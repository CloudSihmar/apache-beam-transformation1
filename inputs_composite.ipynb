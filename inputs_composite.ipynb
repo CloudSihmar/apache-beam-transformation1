{
 "cells": [
  {
   "cell_type": "markdown",
   "id": "24f6f447-5887-484c-a3a7-38427f8ce868",
   "metadata": {},
   "source": [
    "Side-Inputs"
   ]
  },
  {
   "cell_type": "code",
   "execution_count": 1,
   "id": "c501193d-501d-42e2-bd19-ce857e1ea32e",
   "metadata": {
    "tags": []
   },
   "outputs": [
    {
     "name": "stdout",
     "output_type": "stream",
     "text": [
      "('Strawberry', 2)\n",
      "('Carrot', 2)\n",
      "('Potato', 2)\n"
     ]
    }
   ],
   "source": [
    "import apache_beam as beam\n",
    "\n",
    "# Define a function to count occurrences of target words in a given sentence\n",
    "def count_words(element, target_words):\n",
    "    # Initialize a dictionary to keep count of each target word\n",
    "    word_counts = {word: 0 for word in target_words}\n",
    "    \n",
    "    # Split the input sentence into individual words\n",
    "    for word in element.split():\n",
    "        # Check if the current word is in the target words\n",
    "        if word in word_counts:\n",
    "            # If it is, increment the count for that word\n",
    "            word_counts[word] += 1\n",
    "    \n",
    "    # Return a list of tuples containing the word and its count\n",
    "    # Only include words that have a count greater than 0\n",
    "    return [(word, count) for word, count in word_counts.items() if count > 0]\n",
    "\n",
    "# Define the main pipeline\n",
    "with beam.Pipeline() as pipeline:\n",
    "    # List of sentences to process\n",
    "    sentences = [\n",
    "        'Strawberry is a delicious fruit',\n",
    "        'Carrot is a healthy vegetable',\n",
    "        'I love eating Strawberry and Carrot',\n",
    "        'Potato is also a versatile vegetable',\n",
    "        'Strawberry, Carrot, and Potato are popular ingredients'\n",
    "    ]\n",
    "\n",
    "    # Define the target words as a side input\n",
    "    target_words = beam.pvalue.AsList(pipeline | 'Create target words' >> beam.Create(['Strawberry', 'Carrot', 'Potato']))\n",
    "\n",
    "    # Apply the transformations in the pipeline\n",
    "    word_counts = (\n",
    "        pipeline\n",
    "        | 'Create sentences' >> beam.Create(sentences)  # Create a PCollection from the list of sentences\n",
    "        | 'Count target words' >> beam.FlatMap(count_words, target_words)  # Apply the count_words function to each element in the PCollection\n",
    "        | 'Combine counts' >> beam.CombinePerKey(sum)  # Combine the counts for each word across all elements in the PCollection\n",
    "        | 'Print results' >> beam.Map(print)  # Print the results\n",
    "    )\n"
   ]
  },
  {
   "cell_type": "markdown",
   "id": "2527513a-868f-403d-937e-94abfce73992",
   "metadata": {},
   "source": [
    "Composite Transformation"
   ]
  },
  {
   "cell_type": "code",
   "execution_count": 2,
   "id": "2f6610d5-6f95-4a58-8956-dcdf5ac35ba5",
   "metadata": {
    "tags": []
   },
   "outputs": [
    {
     "name": "stdout",
     "output_type": "stream",
     "text": [
      "('Strawberry', 2)\n",
      "('is', 3)\n",
      "('a', 3)\n",
      "('delicious', 1)\n",
      "('fruit', 1)\n",
      "('Carrot', 2)\n",
      "('healthy', 1)\n",
      "('vegetable', 2)\n",
      "('I', 1)\n",
      "('love', 1)\n",
      "('eating', 1)\n",
      "('and', 2)\n",
      "('Potato', 2)\n",
      "('also', 1)\n",
      "('versatile', 1)\n",
      "('Strawberry,', 1)\n",
      "('Carrot,', 1)\n",
      "('are', 1)\n",
      "('popular', 1)\n",
      "('ingredients', 1)\n"
     ]
    }
   ],
   "source": [
    "import apache_beam as beam\n",
    "\n",
    "# Define a composite transform named CountWords\n",
    "class CountWords(beam.PTransform):\n",
    "    def expand(self, pcoll):\n",
    "        return (pcoll\n",
    "                # Step 1: Split each sentence into words\n",
    "                | 'Split words' >> beam.FlatMap(lambda x: x.split())\n",
    "                # Step 2: Pair each word with the number 1 (to count them)\n",
    "                | 'Pair with 1' >> beam.Map(lambda x: (x, 1))\n",
    "                # Step 3: Sum the counts for each word\n",
    "                | 'Count per word' >> beam.CombinePerKey(sum))\n",
    "\n",
    "# Define the main pipeline\n",
    "with beam.Pipeline() as pipeline:\n",
    "    # Define a list of sentences to process\n",
    "    sentences = [\n",
    "        'Strawberry is a delicious fruit',\n",
    "        'Carrot is a healthy vegetable',\n",
    "        'I love eating Strawberry and Carrot',\n",
    "        'Potato is also a versatile vegetable',\n",
    "        'Strawberry, Carrot, and Potato are popular ingredients'\n",
    "    ]\n",
    "\n",
    "    # Create a PCollection of sentences and apply the CountWords transform\n",
    "    word_counts = (\n",
    "        pipeline\n",
    "        # Step 1: Create a PCollection from the list of sentences\n",
    "        | 'Create sentences' >> beam.Create(sentences)\n",
    "        # Step 2: Apply the CountWords composite transform to count words\n",
    "        | 'Count words using composite transform' >> CountWords()\n",
    "        # Step 3: Print the results to the console\n",
    "        | 'Print results' >> beam.Map(print)\n",
    "    )\n"
   ]
  },
  {
   "cell_type": "code",
   "execution_count": null,
   "id": "f1846b11-7243-4abe-8529-98f6266faebc",
   "metadata": {},
   "outputs": [],
   "source": []
  }
 ],
 "metadata": {
  "environment": {
   "kernel": "apache-beam-2.54.0",
   "name": ".m121",
   "type": "gcloud",
   "uri": "us-docker.pkg.dev/deeplearning-platform-release/gcr.io/:m121"
  },
  "kernelspec": {
   "display_name": "Apache Beam 2.54.0 (Local)",
   "language": "python",
   "name": "apache-beam-2.54.0"
  },
  "language_info": {
   "codemirror_mode": {
    "name": "ipython",
    "version": 3
   },
   "file_extension": ".py",
   "mimetype": "text/x-python",
   "name": "python",
   "nbconvert_exporter": "python",
   "pygments_lexer": "ipython3",
   "version": "3.10.14"
  }
 },
 "nbformat": 4,
 "nbformat_minor": 5
}
