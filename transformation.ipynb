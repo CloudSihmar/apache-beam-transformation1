{
 "cells": [
  {
   "cell_type": "markdown",
   "id": "2ddb2e35-4c6c-4dca-a4c3-3f42ea14ff8d",
   "metadata": {},
   "source": [
    "Map: Many to one"
   ]
  },
  {
   "cell_type": "code",
   "execution_count": null,
   "id": "85b2cd1e-18e1-45de-b65e-960ba6d51df5",
   "metadata": {
    "tags": []
   },
   "outputs": [],
   "source": [
    "import apache_beam as beam\n",
    "\n",
    "with beam.Pipeline() as pipeline:\n",
    "    # Create a PCollection of numbers\n",
    "    numbers = pipeline | beam.Create([1, 2, 3, 4, 5])\n",
    "    \n",
    "    # Apply a Map transformation to square each number\n",
    "    squared_numbers = numbers | beam.Map(lambda x: x * x)\n",
    "    \n",
    "    # Print the squared numbers\n",
    "    squared_numbers | beam.Map(print)\n"
   ]
  },
  {
   "cell_type": "markdown",
   "id": "733734bb-9419-4abc-af46-cfc47502a329",
   "metadata": {},
   "source": [
    "FlatMap: Many mapping"
   ]
  },
  {
   "cell_type": "code",
   "execution_count": 2,
   "id": "c18a7d72-6b49-4f79-a82a-22d149be58c7",
   "metadata": {
    "tags": []
   },
   "outputs": [
    {
     "name": "stdout",
     "output_type": "stream",
     "text": [
      "Hello\n",
      "world\n",
      "Apache\n",
      "Beam\n",
      "is\n",
      "powerful\n",
      "FlatMap\n",
      "transformation\n",
      "example\n"
     ]
    }
   ],
   "source": [
    "import apache_beam as beam\n",
    "\n",
    "with beam.Pipeline() as pipeline:\n",
    "    # Create a PCollection of sentences\n",
    "    sentences = pipeline | beam.Create([\n",
    "        'Hello world',\n",
    "        'Apache Beam is powerful',\n",
    "        'FlatMap transformation example'\n",
    "    ])\n",
    "    \n",
    "    # Apply a FlatMap transformation to split each sentence into words\n",
    "    words = sentences | beam.FlatMap(lambda sentence: sentence.split())\n",
    "    \n",
    "    # Print the individual words\n",
    "    words | beam.Map(print)\n"
   ]
  },
  {
   "cell_type": "markdown",
   "id": "30bbb087-19ca-4fff-96ac-a2d4c3d6ecd1",
   "metadata": {},
   "source": [
    "ParDo"
   ]
  },
  {
   "cell_type": "code",
   "execution_count": 3,
   "id": "f56bf2fe-859a-4c48-93a8-d5eabb5de414",
   "metadata": {
    "tags": []
   },
   "outputs": [
    {
     "name": "stdout",
     "output_type": "stream",
     "text": [
      "Hello\n",
      "world\n",
      "Apache\n",
      "Beam\n",
      "is\n",
      "powerful\n",
      "ParDo\n",
      "transformation\n",
      "example\n"
     ]
    }
   ],
   "source": [
    "import apache_beam as beam\n",
    "\n",
    "class SplitWords(beam.DoFn):\n",
    "    def process(self, element):\n",
    "        \"\"\"Splits each sentence into words using both space and comma as separators.\"\"\"\n",
    "        words = element.replace(',', ' ').split()\n",
    "        return words\n",
    "\n",
    "with beam.Pipeline() as pipeline:\n",
    "    # Create a PCollection of sentences\n",
    "    sentences = pipeline | beam.Create([\n",
    "        'Hello,world',\n",
    "        'Apache Beam,is powerful',\n",
    "        'ParDo transformation,example'\n",
    "    ])\n",
    "    \n",
    "    # Apply a ParDo transformation to split each sentence into words\n",
    "    words = sentences | beam.ParDo(SplitWords())\n",
    "    \n",
    "    # Print the individual words\n",
    "    words | beam.Map(print)\n"
   ]
  },
  {
   "cell_type": "markdown",
   "id": "9928014c-dfab-4e7a-8b61-0c5d51fb8021",
   "metadata": {},
   "source": [
    "Filter"
   ]
  },
  {
   "cell_type": "code",
   "execution_count": 4,
   "id": "9f07ec8e-37da-4d0c-8fd4-eb18881bc12d",
   "metadata": {
    "tags": []
   },
   "outputs": [
    {
     "name": "stdout",
     "output_type": "stream",
     "text": [
      "2\n",
      "4\n",
      "6\n",
      "8\n",
      "10\n"
     ]
    }
   ],
   "source": [
    "import apache_beam as beam\n",
    "\n",
    "with beam.Pipeline() as pipeline:\n",
    "    # Create a PCollection of numbers\n",
    "    numbers = pipeline | beam.Create([1, 2, 3, 4, 5, 6, 7, 8, 9, 10])\n",
    "    \n",
    "    # Apply a Filter transformation to keep only even numbers\n",
    "    even_numbers = numbers | beam.Filter(lambda x: x % 2 == 0)\n",
    "    \n",
    "    # Print the filtered even numbers\n",
    "    even_numbers | beam.Map(print)\n"
   ]
  },
  {
   "cell_type": "markdown",
   "id": "21475a6a-5d8c-43e1-8689-247b7edfea36",
   "metadata": {},
   "source": [
    "Flatten"
   ]
  },
  {
   "cell_type": "code",
   "execution_count": 6,
   "id": "246da5c0-eeb3-47c2-8225-f7e3d0473aa5",
   "metadata": {
    "tags": []
   },
   "outputs": [
    {
     "name": "stdout",
     "output_type": "stream",
     "text": [
      "is\n",
      "powerful\n",
      "and\n",
      "flexible\n",
      "Hello\n",
      "Apache\n",
      "Beam\n"
     ]
    }
   ],
   "source": [
    "import apache_beam as beam\n",
    "\n",
    "with beam.Pipeline() as pipeline:\n",
    "    # Create two PCollections of words with unique labels\n",
    "    pcollection1 = pipeline | beam.Create(['Hello', 'Apache', 'Beam'])  # No need to specify label explicitly for the first transform\n",
    "    pcollection2 = pipeline | 'CreatePCollection2' >> beam.Create(['is', 'powerful', 'and', 'flexible'])\n",
    "    \n",
    "    # Apply Flatten to merge the two PCollections into a single PCollection\n",
    "    merged_pcollection = (pcollection1, pcollection2) | beam.Flatten()\n",
    "    \n",
    "    # Print the merged PCollection\n",
    "    merged_pcollection | beam.Map(print)\n",
    "\n"
   ]
  },
  {
   "cell_type": "markdown",
   "id": "550dd082-963b-42a2-9516-9b7cfea69ac9",
   "metadata": {},
   "source": [
    "Partition"
   ]
  },
  {
   "cell_type": "code",
   "execution_count": null,
   "id": "68f05c8e-3fae-42e3-9915-f1830ef7be25",
   "metadata": {},
   "outputs": [],
   "source": []
  },
  {
   "cell_type": "code",
   "execution_count": 8,
   "id": "3ce5baef-98af-4b12-b5f0-929e4f27850c",
   "metadata": {
    "tags": []
   },
   "outputs": [
    {
     "name": "stdout",
     "output_type": "stream",
     "text": [
      "Partition 1: 1\n",
      "Partition 0: 2\n",
      "Partition 1: 3\n",
      "Partition 0: 4\n",
      "Partition 1: 5\n",
      "Partition 0: 6\n",
      "Partition 1: 7\n",
      "Partition 0: 8\n",
      "Partition 1: 9\n",
      "Partition 0: 10\n"
     ]
    }
   ],
   "source": [
    "import apache_beam as beam\n",
    "\n",
    "# Function to print with a prefix\n",
    "def print_with_prefix(element, prefix):\n",
    "    print(f\"{prefix}: {element}\")\n",
    "\n",
    "# Function to partition elements based on their value\n",
    "def partition_fn(element, num_partitions):\n",
    "    if element % 2 == 0:\n",
    "        return 0  # Place even numbers in partition 0\n",
    "    else:\n",
    "        return 1  # Place odd numbers in partition 1\n",
    "\n",
    "with beam.Pipeline() as pipeline:\n",
    "    # Create a PCollection of numbers\n",
    "    numbers = pipeline | beam.Create([1, 2, 3, 4, 5, 6, 7, 8, 9, 10])\n",
    "    \n",
    "    # Apply Partition transformation to split numbers into two partitions\n",
    "    partitioned_numbers = numbers | beam.Partition(partition_fn, 2)\n",
    "    \n",
    "    # Extract and print elements from each partition with prefix\n",
    "    partitioned_numbers[0] | 'Print Partition 0' >> beam.Map(print_with_prefix, prefix='Partition 0')\n",
    "    partitioned_numbers[1] | 'Print Partition 1' >> beam.Map(print_with_prefix, prefix='Partition 1')\n"
   ]
  },
  {
   "cell_type": "markdown",
   "id": "8e16ffbf-674c-4d4a-a301-24b65ab3125e",
   "metadata": {},
   "source": [
    "GroupByKey"
   ]
  },
  {
   "cell_type": "code",
   "execution_count": 9,
   "id": "b4ccd35f-bcd1-4093-8db5-c100bc32f0f1",
   "metadata": {
    "tags": []
   },
   "outputs": [
    {
     "name": "stdout",
     "output_type": "stream",
     "text": [
      "('a', [1, 3])\n",
      "('b', [2, 4])\n",
      "('c', [5])\n"
     ]
    }
   ],
   "source": [
    "import apache_beam as beam\n",
    "\n",
    "with beam.Pipeline() as pipeline:\n",
    "    # Create a PCollection of key-value pairs\n",
    "    elements = pipeline | beam.Create([\n",
    "        ('a', 1), ('b', 2), ('a', 3), ('b', 4), ('c', 5)\n",
    "    ])\n",
    "    \n",
    "    # Apply GroupByKey to group elements by key\n",
    "    grouped_elements = elements | beam.GroupByKey()\n",
    "    \n",
    "    # Print the grouped elements\n",
    "    grouped_elements | beam.Map(print)\n"
   ]
  },
  {
   "cell_type": "markdown",
   "id": "a4133497-c911-41a4-bef4-ecab285955ab",
   "metadata": {},
   "source": [
    "CoGroupByKey"
   ]
  },
  {
   "cell_type": "code",
   "execution_count": 18,
   "id": "bbfb0396-59e3-42ec-8f26-41a5efd8edd2",
   "metadata": {
    "tags": []
   },
   "outputs": [
    {
     "data": {
      "text/html": [
       "\n",
       "            <link rel=\"stylesheet\" href=\"https://stackpath.bootstrapcdn.com/bootstrap/4.4.1/css/bootstrap.min.css\" integrity=\"sha384-Vkoo8x4CGsO3+Hhxv8T/Q5PaXtkKtu6ug5TOeNV6gBiFeWPGFN9MuhOf23Q9Ifjh\" crossorigin=\"anonymous\">\n",
       "            <div id=\"progress_indicator_14e87c0ac86fa95988e27b4bac4a9a99\">\n",
       "              <div class=\"spinner-border text-info\" role=\"status\"></div>\n",
       "              <span class=\"text-info\">Processing... show</span>\n",
       "            </div>\n",
       "            "
      ],
      "text/plain": [
       "<IPython.core.display.HTML object>"
      ]
     },
     "metadata": {},
     "output_type": "display_data"
    },
    {
     "data": {
      "text/html": [
       "\n",
       "            <style>\n",
       "            .p-Widget.jp-OutputPrompt.jp-OutputArea-prompt:empty {\n",
       "              padding: 0;\n",
       "              border: 0;\n",
       "            }\n",
       "            .p-Widget.jp-RenderedJavaScript.jp-mod-trusted.jp-OutputArea-output:empty {\n",
       "              padding: 0;\n",
       "              border: 0;\n",
       "            }\n",
       "            </style>\n",
       "            <link rel=\"stylesheet\" href=\"https://cdn.datatables.net/1.10.20/css/jquery.dataTables.min.css\">\n",
       "            <table id=\"table_df_c1f6026826b7b759d9a54f1aaf6087ce\" class=\"display\" style=\"display:block\"></table>\n",
       "            <script>\n",
       "              \n",
       "        if (typeof window.interactive_beam_jquery == 'undefined') {\n",
       "          var jqueryScript = document.createElement('script');\n",
       "          jqueryScript.src = 'https://code.jquery.com/jquery-3.4.1.slim.min.js';\n",
       "          jqueryScript.type = 'text/javascript';\n",
       "          jqueryScript.onload = function() {\n",
       "            var datatableScript = document.createElement('script');\n",
       "            datatableScript.src = 'https://cdn.datatables.net/1.10.20/js/jquery.dataTables.min.js';\n",
       "            datatableScript.type = 'text/javascript';\n",
       "            datatableScript.onload = function() {\n",
       "              window.interactive_beam_jquery = jQuery.noConflict(true);\n",
       "              window.interactive_beam_jquery(document).ready(function($){\n",
       "                \n",
       "            var dt;\n",
       "            if ($.fn.dataTable.isDataTable(\"#table_df_c1f6026826b7b759d9a54f1aaf6087ce\")) {\n",
       "              dt = $(\"#table_df_c1f6026826b7b759d9a54f1aaf6087ce\").dataTable();\n",
       "            } else if ($(\"#table_df_c1f6026826b7b759d9a54f1aaf6087ce_wrapper\").length == 0) {\n",
       "              dt = $(\"#table_df_c1f6026826b7b759d9a54f1aaf6087ce\").dataTable({\n",
       "                \n",
       "            bAutoWidth: false,\n",
       "            columns: [{'title': ''}, {'title': 'cogbk.0'}, {'title': 'cogbk.1'}],\n",
       "            destroy: true,\n",
       "            responsive: true,\n",
       "            columnDefs: [\n",
       "              {\n",
       "                targets: \"_all\",\n",
       "                className: \"dt-left\"\n",
       "              },\n",
       "              {\n",
       "                \"targets\": 0,\n",
       "                \"width\": \"10px\",\n",
       "                \"title\": \"\"\n",
       "              }\n",
       "            ]\n",
       "              });\n",
       "            } else {\n",
       "              return;\n",
       "            }\n",
       "            dt.api()\n",
       "              .clear()\n",
       "              .rows.add([{1: 'sam', 2: \"(['Engineer'], ['Delhi'])\", 0: 0}, {1: 'sandeep', 2: \"(['Devops Engineer'], ['Pune'])\", 0: 1}, {1: 'alice', 2: \"(['Data Scientist'], ['New York'])\", 0: 2}, {1: 'bob', 2: \"(['Software Developer'], ['San Francisco'])\", 0: 3}])\n",
       "              .draw('full-hold');\n",
       "              });\n",
       "            }\n",
       "            document.head.appendChild(datatableScript);\n",
       "          };\n",
       "          document.head.appendChild(jqueryScript);\n",
       "        } else {\n",
       "          window.interactive_beam_jquery(document).ready(function($){\n",
       "            \n",
       "            var dt;\n",
       "            if ($.fn.dataTable.isDataTable(\"#table_df_c1f6026826b7b759d9a54f1aaf6087ce\")) {\n",
       "              dt = $(\"#table_df_c1f6026826b7b759d9a54f1aaf6087ce\").dataTable();\n",
       "            } else if ($(\"#table_df_c1f6026826b7b759d9a54f1aaf6087ce_wrapper\").length == 0) {\n",
       "              dt = $(\"#table_df_c1f6026826b7b759d9a54f1aaf6087ce\").dataTable({\n",
       "                \n",
       "            bAutoWidth: false,\n",
       "            columns: [{'title': ''}, {'title': 'cogbk.0'}, {'title': 'cogbk.1'}],\n",
       "            destroy: true,\n",
       "            responsive: true,\n",
       "            columnDefs: [\n",
       "              {\n",
       "                targets: \"_all\",\n",
       "                className: \"dt-left\"\n",
       "              },\n",
       "              {\n",
       "                \"targets\": 0,\n",
       "                \"width\": \"10px\",\n",
       "                \"title\": \"\"\n",
       "              }\n",
       "            ]\n",
       "              });\n",
       "            } else {\n",
       "              return;\n",
       "            }\n",
       "            dt.api()\n",
       "              .clear()\n",
       "              .rows.add([{1: 'sam', 2: \"(['Engineer'], ['Delhi'])\", 0: 0}, {1: 'sandeep', 2: \"(['Devops Engineer'], ['Pune'])\", 0: 1}, {1: 'alice', 2: \"(['Data Scientist'], ['New York'])\", 0: 2}, {1: 'bob', 2: \"(['Software Developer'], ['San Francisco'])\", 0: 3}])\n",
       "              .draw('full-hold');\n",
       "          });\n",
       "        }\n",
       "            </script>"
      ],
      "text/plain": [
       "<IPython.core.display.HTML object>"
      ]
     },
     "metadata": {},
     "output_type": "display_data"
    },
    {
     "data": {
      "application/javascript": [
       "\n",
       "        if (typeof window.interactive_beam_jquery == 'undefined') {\n",
       "          var jqueryScript = document.createElement('script');\n",
       "          jqueryScript.src = 'https://code.jquery.com/jquery-3.4.1.slim.min.js';\n",
       "          jqueryScript.type = 'text/javascript';\n",
       "          jqueryScript.onload = function() {\n",
       "            var datatableScript = document.createElement('script');\n",
       "            datatableScript.src = 'https://cdn.datatables.net/1.10.20/js/jquery.dataTables.min.js';\n",
       "            datatableScript.type = 'text/javascript';\n",
       "            datatableScript.onload = function() {\n",
       "              window.interactive_beam_jquery = jQuery.noConflict(true);\n",
       "              window.interactive_beam_jquery(document).ready(function($){\n",
       "                \n",
       "            $(\"#progress_indicator_14e87c0ac86fa95988e27b4bac4a9a99\").remove();\n",
       "              });\n",
       "            }\n",
       "            document.head.appendChild(datatableScript);\n",
       "          };\n",
       "          document.head.appendChild(jqueryScript);\n",
       "        } else {\n",
       "          window.interactive_beam_jquery(document).ready(function($){\n",
       "            \n",
       "            $(\"#progress_indicator_14e87c0ac86fa95988e27b4bac4a9a99\").remove();\n",
       "          });\n",
       "        }"
      ]
     },
     "metadata": {},
     "output_type": "display_data"
    }
   ],
   "source": [
    "import apache_beam as beam\n",
    "from apache_beam.runners.interactive.interactive_runner import InteractiveRunner\n",
    "import apache_beam.runners.interactive.interactive_beam as ib\n",
    "\n",
    "# Sample data\n",
    "jobs = [\n",
    "    (\"sam\", \"Engineer\"),\n",
    "    (\"sandeep\", \"Devops Engineer\"),\n",
    "    (\"alice\", \"Data Scientist\"),\n",
    "    (\"bob\", \"Software Developer\"),\n",
    "]\n",
    "\n",
    "city = [\n",
    "    (\"sam\", \"Delhi\"),\n",
    "    (\"sandeep\", \"Pune\"),\n",
    "    (\"alice\", \"New York\"),\n",
    "    (\"bob\", \"San Francisco\"),\n",
    "]\n",
    "\n",
    "# Create a pipeline using InteractiveRunner\n",
    "p = beam.Pipeline(InteractiveRunner())\n",
    "\n",
    "# Create PCollections for jobs and city data\n",
    "jobs_create = p | \"Create Jobs\" >> beam.Create(jobs)\n",
    "city_create = p | \"Create City\" >> beam.Create(city)\n",
    "\n",
    "# Perform CoGroupByKey to merge based on the common key\n",
    "cogbk = (jobs_create, city_create) | \"CoGroupByKey\" >> beam.CoGroupByKey()\n",
    "\n",
    "# Show the result using interactive_beam\n",
    "ib.show(cogbk)\n"
   ]
  },
  {
   "cell_type": "code",
   "execution_count": null,
   "id": "56318734-b726-45bd-b314-7b347f497c37",
   "metadata": {},
   "outputs": [],
   "source": []
  }
 ],
 "metadata": {
  "environment": {
   "kernel": "apache-beam-2.54.0",
   "name": ".m121",
   "type": "gcloud",
   "uri": "us-docker.pkg.dev/deeplearning-platform-release/gcr.io/:m121"
  },
  "kernelspec": {
   "display_name": "Apache Beam 2.54.0 (Local)",
   "language": "python",
   "name": "apache-beam-2.54.0"
  },
  "language_info": {
   "codemirror_mode": {
    "name": "ipython",
    "version": 3
   },
   "file_extension": ".py",
   "mimetype": "text/x-python",
   "name": "python",
   "nbconvert_exporter": "python",
   "pygments_lexer": "ipython3",
   "version": "3.10.14"
  }
 },
 "nbformat": 4,
 "nbformat_minor": 5
}
